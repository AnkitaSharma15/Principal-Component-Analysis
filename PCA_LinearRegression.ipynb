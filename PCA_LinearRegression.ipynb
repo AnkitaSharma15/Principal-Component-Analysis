{
 "cells": [
  {
   "cell_type": "markdown",
   "metadata": {},
   "source": [
    "## PCA & LINEAR REGRESSION"
   ]
  },
  {
   "cell_type": "code",
   "execution_count": 62,
   "metadata": {
    "collapsed": true
   },
   "outputs": [],
   "source": [
    "import numpy as np\n",
    "import matplotlib.pyplot as plt\n",
    "from numpy import linalg as LA\n",
    "import pandas as pd\n",
    "from matplotlib.mlab import PCA\n",
    "get_ipython().magic(u'matplotlib inline')"
   ]
  },
  {
   "cell_type": "markdown",
   "metadata": {},
   "source": [
    "## PCA"
   ]
  },
  {
   "cell_type": "code",
   "execution_count": 63,
   "metadata": {
    "collapsed": true
   },
   "outputs": [],
   "source": [
    "def my_PCA(x):\n",
    "    colMean=x.mean(axis=0)\n",
    "    centeredMean=x-colMean\n",
    "\n",
    "    #Covariance Matrix\n",
    "    covMatrix=np.cov(x,rowvar=False)\n",
    "\n",
    "    # eigendecomposition of the covariance matrix\n",
    "    eigValues, eigVectors=LA.eig(covMatrix)\n",
    "\n",
    "    #print('Eigenvalues \\n%s' % eigValues)\n",
    "    #print('\\nEigenvectors \\n%s' % eigVectors)\n",
    "\n",
    "    #Sort & order the eigen values and vectors\n",
    "    eigenIndexes=eigValues.argsort()[::-1]\n",
    "    eigValues = eigValues[eigenIndexes]\n",
    "    eigVectors = eigVectors[:, eigenIndexes]\n",
    "\n",
    "    # scores\n",
    "    scores = np.dot(centeredMean, eigVectors)\n",
    "    print(scores)\n",
    "\n",
    "    #PCA results\n",
    "    pca_results = {'dataset': x,'centered_mean': centeredMean,'pcVariance': eigValues,'loadings': eigVectors,'scores': scores}\n",
    "\n",
    "    return pca_results\n"
   ]
  },
  {
   "cell_type": "markdown",
   "metadata": {},
   "source": [
    "## LINEAR REGRESSION"
   ]
  },
  {
   "cell_type": "code",
   "execution_count": 11,
   "metadata": {
    "collapsed": true
   },
   "outputs": [],
   "source": [
    "def myLinearRegression(data):\n",
    "    cov_matrix = np.cov(data[:,0], data[:,1])\n",
    "    covariance =  cov_matrix[1,0]\n",
    "    variance = cov_matrix[0,0]\n",
    "    beta1_hat = covariance/variance\n",
    "    y_mean = np.mean(data[:,1])\n",
    "    x_mean = np.mean(data[:,0])\n",
    "    beta0_hat = y_mean - (beta1_hat*x_mean)\n",
    "    y_predicted =  np.ones_like(data[:,1])\n",
    "    y_predicted = beta0_hat + (beta1_hat*data[:,0])\n",
    "    \n",
    "    lr_results = {'covMatrix': cov_matrix,'covariance': covariance,'variance': variance,'yPredicted': y_predicted}\n",
    "\n",
    "    return lr_results   "
   ]
  },
  {
   "cell_type": "code",
   "execution_count": null,
   "metadata": {
    "collapsed": true
   },
   "outputs": [],
   "source": [
    "def sklearn_pca(data, n):\n",
    "    from sklearn.decomposition import PCA\n",
    "    pca_sklearn = PCA(n)\n",
    "    pca_sklearn.fit(data[:,0:2])\n",
    "    return pca_sklearn.transform(data[:,0:2])"
   ]
  },
  {
   "cell_type": "markdown",
   "metadata": {},
   "source": [
    "## Reading Dataset"
   ]
  },
  {
   "cell_type": "code",
   "execution_count": 25,
   "metadata": {
    "collapsed": true
   },
   "outputs": [],
   "source": [
    "dataset = pd.read_csv(\"D:\\ML\\HW1\\linear_regression_test_data.csv\")\n",
    "dataset = dataset.as_matrix()[:,1:]"
   ]
  },
  {
   "cell_type": "markdown",
   "metadata": {},
   "source": [
    "## Performing PCA"
   ]
  },
  {
   "cell_type": "code",
   "execution_count": 26,
   "metadata": {},
   "outputs": [
    {
     "name": "stdout",
     "output_type": "stream",
     "text": [
      "[[  4.35166345e+00   3.76797645e-01]\n",
      " [  4.66088750e+00  -5.37925041e-05]\n",
      " [  4.28403419e+00   1.12017614e-01]\n",
      " [  2.15845822e+00  -1.70490107e-01]\n",
      " [  2.56237160e+00  -5.46306624e-01]\n",
      " [  9.96542098e-01   1.54904911e-01]\n",
      " [  8.51502753e-02   1.92825209e-01]\n",
      " [  6.64246378e-01  -1.60580269e-01]\n",
      " [ -7.24622785e-01   4.98885965e-01]\n",
      " [  7.77196226e-01  -3.18698392e-01]\n",
      " [ -2.07558107e-01   6.79202949e-03]\n",
      " [ -4.88614691e-01  -4.81421425e-02]\n",
      " [ -1.88142156e+00   3.22379183e-01]\n",
      " [ -2.41608561e+00   3.02786954e-01]\n",
      " [ -1.94667138e+00   1.36105932e-02]\n",
      " [ -2.41275169e+00   5.88092994e-02]\n",
      " [ -2.17819691e+00  -2.21906374e-01]\n",
      " [ -1.88156470e+00  -4.63321895e-01]\n",
      " [ -2.91798220e+00  -1.08666666e-01]\n",
      " [ -3.48508032e+00  -1.64313947e-03]]\n",
      "[-0.43814047 -0.89890652]\n"
     ]
    }
   ],
   "source": [
    "cal_pca_result=my_PCA(dataset[:,0:2])\n",
    "\n",
    "principal_components = cal_pca_result['loadings']\n",
    "\n",
    "pc1 = principal_components[0]\n",
    "print(pc1)"
   ]
  },
  {
   "cell_type": "markdown",
   "metadata": {},
   "source": [
    "## Performing Linear Regression"
   ]
  },
  {
   "cell_type": "code",
   "execution_count": 27,
   "metadata": {
    "collapsed": true
   },
   "outputs": [],
   "source": [
    "cal_LR_result = myLinearRegression(dataset[:,0:2])\n",
    "\n",
    "y_predicted = cal_LR_result['yPredicted']"
   ]
  },
  {
   "cell_type": "markdown",
   "metadata": {},
   "source": [
    "## Plotting PCA on x and y"
   ]
  },
  {
   "cell_type": "code",
   "execution_count": 65,
   "metadata": {},
   "outputs": [
    {
     "data": {
      "text/plain": [
       "[<matplotlib.lines.Line2D at 0xe6e5fd0>]"
      ]
     },
     "execution_count": 65,
     "metadata": {},
     "output_type": "execute_result"
    },
    {
     "data": {
      "image/png": "[encoded data removed]",
      "text/plain": [
       "<matplotlib.figure.Figure at 0xe526cc0>"
      ]
     },
     "metadata": {},
     "output_type": "display_data"
    }
   ],
   "source": [
    "plt.scatter(dataset[:,1], dataset[:,0]) #plot y vs x\n",
    "plt.scatter(dataset[:,2], dataset[:,0]) #plot y-theoritical vs x\n",
    "#plot PC1 \n",
    "plt.plot([0, 2*pc1[0]], [0, 2*pc1[1]],\n",
    "        color='green', linewidth=5)"
   ]
  },
  {
   "cell_type": "markdown",
   "metadata": {},
   "source": [
    "## Plotting Regression line on same plot"
   ]
  },
  {
   "cell_type": "code",
   "execution_count": 67,
   "metadata": {},
   "outputs": [
    {
     "data": {
      "text/plain": [
       "[<matplotlib.lines.Line2D at 0xecd49b0>]"
      ]
     },
     "execution_count": 67,
     "metadata": {},
     "output_type": "execute_result"
    },
    {
     "data": {
      "image/png": "[encoded data removed]",
      "text/plain": [
       "<matplotlib.figure.Figure at 0xe710208>"
      ]
     },
     "metadata": {},
     "output_type": "display_data"
    }
   ],
   "source": [
    "plt.scatter(dataset[:,1], dataset[:,0])\n",
    "plt.scatter(dataset[:,2], dataset[:,0])\n",
    "plt.plot([0, 2*pc1[0]], [0, 2*pc1[1]],\n",
    "        color='green', linewidth=5)\n",
    "plt.plot(dataset[:,0], y_predicted)"
   ]
  },
  {
   "cell_type": "code",
   "execution_count": 1,
   "metadata": {
    "collapsed": true
   },
   "outputs": [],
   "source": [
    "\n",
    "#Yes, PC1 and the regression line axis are same in the plot."
   ]
  },
  {
   "cell_type": "markdown",
   "metadata": {},
   "source": [
    "## veriffying results with sklearn"
   ]
  },
  {
   "cell_type": "code",
   "execution_count": 2,
   "metadata": {
    "collapsed": true
   },
   "outputs": [],
   "source": [
    "\n",
    "\n",
    "from sklearn import datasets\n",
    "from sklearn import linear_model\n",
    "\n",
    "diabetes = datasets.load_diabetes()"
   ]
  },
  {
   "cell_type": "code",
   "execution_count": 70,
   "metadata": {
    "collapsed": true
   },
   "outputs": [],
   "source": [
    "x = diabetes.data[:,2]\n",
    "y = diabetes.target"
   ]
  },
  {
   "cell_type": "code",
   "execution_count": 71,
   "metadata": {
    "collapsed": true
   },
   "outputs": [],
   "source": [
    "from sklearn.model_selection import train_test_split\n",
    "train_x, test_x, train_y, test_y = train_test_split(x,y,test_size=0.045, random_state=40)"
   ]
  },
  {
   "cell_type": "code",
   "execution_count": 72,
   "metadata": {},
   "outputs": [
    {
     "data": {
      "text/plain": [
       "(20L,)"
      ]
     },
     "execution_count": 72,
     "metadata": {},
     "output_type": "execute_result"
    }
   ],
   "source": [
    "test_x.shape"
   ]
  },
  {
   "cell_type": "code",
   "execution_count": 73,
   "metadata": {},
   "outputs": [
    {
     "data": {
      "text/plain": [
       "array([-0.03099563, -0.01267283,  0.04121778,  0.03906215,  0.00026092,\n",
       "        0.04768465,  0.02073935, -0.05794093,  0.02612841, -0.03854032,\n",
       "        0.01211685, -0.05686312, -0.06117437,  0.0250506 , -0.07626374,\n",
       "        0.04552903, -0.05901875, -0.00405033, -0.07734155,  0.02828403])"
      ]
     },
     "execution_count": 73,
     "metadata": {},
     "output_type": "execute_result"
    }
   ],
   "source": [
    "test_x"
   ]
  },
  {
   "cell_type": "code",
   "execution_count": 74,
   "metadata": {},
   "outputs": [
    {
     "data": {
      "text/plain": [
       "<matplotlib.collections.PathCollection at 0xef0b898>"
      ]
     },
     "execution_count": 74,
     "metadata": {},
     "output_type": "execute_result"
    },
    {
     "data": {
      "image/png": "[encoded data removed]",
      "text/plain": [
       "<matplotlib.figure.Figure at 0xee59e80>"
      ]
     },
     "metadata": {},
     "output_type": "display_data"
    }
   ],
   "source": [
    "plt.scatter(test_x, test_y, color='r')\n",
    "plt.scatter(test_x, y_pred, color='b')\n",
    "# plt.plot(test_x, y_predicted, color='green')"
   ]
  },
  {
   "cell_type": "code",
   "execution_count": 75,
   "metadata": {
    "scrolled": true
   },
   "outputs": [
    {
     "data": {
      "text/plain": [
       "array([[ 122.11037341],\n",
       "       [ 139.57355115],\n",
       "       [ 190.93583863],\n",
       "       [ 188.88134713],\n",
       "       [ 151.90050014],\n",
       "       [ 197.09931312],\n",
       "       [ 171.41816938],\n",
       "       [  96.42922967],\n",
       "       [ 176.55439813],\n",
       "       [ 114.91965316],\n",
       "       [ 163.20020339],\n",
       "       [  97.45647542],\n",
       "       [  93.34749242],\n",
       "       [ 175.52715238],\n",
       "       [  78.96605192],\n",
       "       [ 195.04482162],\n",
       "       [  95.40198392],\n",
       "       [ 147.79151714],\n",
       "       [  77.93880617],\n",
       "       [ 178.60888963]])"
      ]
     },
     "execution_count": 75,
     "metadata": {},
     "output_type": "execute_result"
    }
   ],
   "source": [
    "linearRegression = linear_model.LinearRegression()\n",
    "linearRegression.fit(train_x.reshape(-1,1), train_y.reshape(-1,1))\n",
    "y_pred = linearRegression.predict(test_x.reshape(-1,1))\n",
    "y_pred"
   ]
  },
  {
   "cell_type": "code",
   "execution_count": 78,
   "metadata": {},
   "outputs": [
    {
     "data": {
      "text/plain": [
       "<matplotlib.collections.PathCollection at 0xf98b240>"
      ]
     },
     "execution_count": 78,
     "metadata": {},
     "output_type": "execute_result"
    },
    {
     "data": {
      "image/png": "[encoded data removed]",
      "text/plain": [
       "<matplotlib.figure.Figure at 0xf0fc4a8>"
      ]
     },
     "metadata": {},
     "output_type": "display_data"
    }
   ],
   "source": [
    "plt.scatter(test_x, test_y, color='r') #plotting testig x vs testing y\n",
    "plt.scatter(test_x, y_pred, color='b') #plotting testing x vs predicted y"
   ]
  },
  {
   "cell_type": "code",
   "execution_count": 79,
   "metadata": {},
   "outputs": [
    {
     "data": {
      "text/plain": [
       "[<matplotlib.lines.Line2D at 0xfba19e8>]"
      ]
     },
     "execution_count": 79,
     "metadata": {},
     "output_type": "execute_result"
    },
    {
     "data": {
      "image/png": "[encoded data removed]",
      "text/plain": [
       "<matplotlib.figure.Figure at 0xf997080>"
      ]
     },
     "metadata": {},
     "output_type": "display_data"
    }
   ],
   "source": [
    "plt.scatter(test_x, test_y, color='r')\n",
    "plt.scatter(test_x, y_pred, color='b')\n",
    "plt.plot(test_x, y_pred, color='g')"
   ]
  },
  {
   "cell_type": "code",
   "execution_count": null,
   "metadata": {
    "collapsed": true
   },
   "outputs": [],
   "source": []
  }
 ],
 "metadata": {
  "kernelspec": {
   "display_name": "Python 3",
   "language": "python",
   "name": "python3"
  },
  "language_info": {
   "codemirror_mode": {
    "name": "ipython",
    "version": 3
   },
   "file_extension": ".py",
   "mimetype": "text/x-python",
   "name": "python",
   "nbconvert_exporter": "python",
   "pygments_lexer": "ipython3",
   "version": "3.6.3"
  }
 },
 "nbformat": 4,
 "nbformat_minor": 2
}
